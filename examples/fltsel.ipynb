{
 "cells": [
  {
   "cell_type": "code",
   "execution_count": 1,
   "id": "01e98419-4d0e-4d75-8e98-de100e444665",
   "metadata": {},
   "outputs": [],
   "source": [
    "%load_ext autoreload\n",
    "%autoreload 2\n",
    "\n",
    "import sys\n",
    "sys.path.append('..')\n",
    "\n",
    "import maxjoshua as mh"
   ]
  },
  {
   "cell_type": "code",
   "execution_count": 2,
   "id": "9c88dd95-863e-4260-9e79-d581edb4588c",
   "metadata": {},
   "outputs": [],
   "source": [
    "from sklearn.preprocessing import scale\n",
    "from sklearn.datasets import fetch_california_housing\n",
    "housing = fetch_california_housing()\n",
    "X = scale(housing[\"data\"], axis=0)\n",
    "y = scale(housing[\"target\"])"
   ]
  },
  {
   "cell_type": "code",
   "execution_count": 3,
   "id": "171606bd-f9d5-4086-b7c6-3d4af9f78448",
   "metadata": {},
   "outputs": [
    {
     "data": {
      "text/plain": [
       "((20640, 8), (20640,))"
      ]
     },
     "execution_count": 3,
     "metadata": {},
     "output_type": "execute_result"
    }
   ],
   "source": [
    "X.shape, y.shape"
   ]
  },
  {
   "cell_type": "code",
   "execution_count": 4,
   "id": "8508666c-a7cd-49dc-a1a0-5042334b565c",
   "metadata": {},
   "outputs": [
    {
     "data": {
      "text/plain": [
       "((0, 1, 3, 6, 7),\n",
       " [0.62849006683482,\n",
       "  0.10378086777404276,\n",
       "  0.10206097231376002,\n",
       "  -0.8693078343517269,\n",
       "  -0.8329885182509693],\n",
       " 0.6306472387347298)"
      ]
     },
     "execution_count": 4,
     "metadata": {},
     "output_type": "execute_result"
    }
   ],
   "source": [
    "idx, loss, beta,  results = mh.fltsel(\n",
    "    X, y, preselect=0.8, oob_score=True, subsample=0.5, \n",
    "    n_select=5, unique=True, n_draws=100)\n",
    "\n",
    "idx, loss, beta"
   ]
  },
  {
   "cell_type": "code",
   "execution_count": 5,
   "id": "8fa33612-fd20-47f2-a0eb-0d230250e002",
   "metadata": {},
   "outputs": [
    {
     "name": "stdout",
     "output_type": "stream",
     "text": [
      "(0, 1, 3, 6, 7) 0.6306472387347298\n",
      "(0, 1, 2, 3, 6) 0.6757138226758718\n",
      "(0, 1, 2, 5, 6) 0.6846619245898289\n",
      "(0, 1, 2, 5, 7) 0.6933646521138656\n",
      "(0, 1, 2, 4, 7) 0.6941155607522588\n",
      "(0, 1, 3, 5, 6) 0.6944601158344856\n"
     ]
    }
   ],
   "source": [
    "for res in results:\n",
    "    print(res[0], res[-1])"
   ]
  },
  {
   "cell_type": "code",
   "execution_count": null,
   "id": "dd4a4641-fb1c-4397-8547-4d3e1f723630",
   "metadata": {},
   "outputs": [],
   "source": []
  }
 ],
 "metadata": {
  "kernelspec": {
   "display_name": "Python 3 (ipykernel)",
   "language": "python",
   "name": "python3"
  },
  "language_info": {
   "codemirror_mode": {
    "name": "ipython",
    "version": 3
   },
   "file_extension": ".py",
   "mimetype": "text/x-python",
   "name": "python",
   "nbconvert_exporter": "python",
   "pygments_lexer": "ipython3",
   "version": "3.7.9"
  }
 },
 "nbformat": 4,
 "nbformat_minor": 5
}
