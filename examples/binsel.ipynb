{
 "cells": [
  {
   "cell_type": "code",
   "execution_count": 1,
   "metadata": {},
   "outputs": [],
   "source": [
    "%load_ext autoreload\n",
    "%autoreload 2\n",
    "\n",
    "import sys\n",
    "sys.path.append('..')\n",
    "\n",
    "import maxjoshua as mh"
   ]
  },
  {
   "cell_type": "markdown",
   "metadata": {},
   "source": [
    "# Load Demo Datasets\n",
    "Convert everything to boolean features.\n"
   ]
  },
  {
   "cell_type": "code",
   "execution_count": 2,
   "metadata": {},
   "outputs": [],
   "source": [
    "from sklearn.datasets import load_breast_cancer\n",
    "from sklearn.preprocessing import scale\n",
    "X = scale(load_breast_cancer().data, axis=0) > 0\n",
    "y = load_breast_cancer().target"
   ]
  },
  {
   "cell_type": "markdown",
   "metadata": {},
   "source": [
    "# Select Binary Features"
   ]
  },
  {
   "cell_type": "code",
   "execution_count": 3,
   "metadata": {},
   "outputs": [
    {
     "name": "stdout",
     "output_type": "stream",
     "text": [
      "CPU times: user 13.8 s, sys: 193 ms, total: 14 s\n",
      "Wall time: 18.2 s\n"
     ]
    }
   ],
   "source": [
    "%%time\n",
    "idx, neg, rho, results = mh.binsel(\n",
    "    X, y, preselect=0.8, oob_score=True, subsample=0.5, \n",
    "    n_select=5, unique=True, n_draws=100, random_state=42)"
   ]
  },
  {
   "cell_type": "code",
   "execution_count": 4,
   "metadata": {},
   "outputs": [
    {
     "data": {
      "text/plain": [
       "((3, 4, 15, 21, 28), (1, 1, 1, 1, 1), 0.7960465735933107)"
      ]
     },
     "execution_count": 4,
     "metadata": {},
     "output_type": "execute_result"
    }
   ],
   "source": [
    "idx, neg, rho"
   ]
  },
  {
   "cell_type": "code",
   "execution_count": 5,
   "metadata": {},
   "outputs": [
    {
     "data": {
      "text/plain": [
       "[[(3, 4, 15, 21, 28), (1, 1, 1, 1, 1), 0.7960465735933107],\n",
       " [(3, 15, 21, 24, 28), (1, 1, 1, 1, 1), 0.7866548675908219],\n",
       " [(0, 1, 17, 24, 28), (1, 1, 1, 1, 1), 0.781080575467103],\n",
       " [(1, 3, 15, 24, 28), (1, 1, 1, 1, 1), 0.7802419380223301],\n",
       " [(0, 17, 21, 24, 28), (1, 1, 1, 1, 1), 0.7720812258439138],\n",
       " [(1, 3, 17, 24, 28), (1, 1, 1, 1, 1), 0.759144311215919],\n",
       " [(1, 3, 16, 24, 28), (1, 1, 1, 1, 1), 0.7445343102326477],\n",
       " [(3, 17, 21, 24, 28), (1, 1, 1, 1, 1), 0.7432561704521645],\n",
       " [(0, 4, 16, 21, 28), (1, 1, 1, 1, 1), 0.7407302872041233],\n",
       " [(1, 3, 4, 17, 28), (1, 1, 1, 1, 1), 0.7360093066213472],\n",
       " [(3, 4, 17, 21, 28), (1, 1, 1, 1, 1), 0.734764477054184],\n",
       " [(1, 3, 4, 15, 28), (1, 1, 1, 1, 1), 0.7289603092524573],\n",
       " [(3, 4, 16, 21, 28), (1, 1, 1, 1, 1), 0.7274755631109222],\n",
       " [(0, 1, 8, 16, 24), (1, 1, 1, 1, 1), 0.7078712747017237],\n",
       " [(4, 6, 14, 21, 28), (1, 1, 0, 1, 1), 0.6923229627155534],\n",
       " [(1, 3, 8, 17, 24), (1, 1, 1, 1, 1), 0.6902568480158111],\n",
       " [(1, 3, 4, 16, 28), (1, 1, 1, 1, 1), 0.6841838328673733],\n",
       " [(3, 4, 8, 16, 21), (1, 1, 0, 1, 1), 0.6819102534639803],\n",
       " [(1, 3, 8, 15, 24), (1, 1, 1, 1, 1), 0.6738369592725034],\n",
       " [(4, 13, 16, 21, 28), (1, 1, 1, 1, 1), 0.6736071780245318],\n",
       " [(3, 8, 17, 21, 29), (1, 1, 1, 1, 0), 0.6699499244708949],\n",
       " [(3, 8, 15, 21, 24), (1, 1, 1, 1, 1), 0.6330638380960737],\n",
       " [(1, 4, 10, 16, 28), (1, 1, 1, 1, 1), 0.6080263762770166],\n",
       " [(10, 16, 21, 24, 29), (1, 1, 1, 1, 1), 0.5775961148017725],\n",
       " [(3, 8, 21, 24, 29), (1, 1, 1, 1, 1), 0.5634828781368246],\n",
       " [(1, 4, 17, 28, 29), (1, 1, 1, 1, 0), 0.5614585185205219],\n",
       " [(1, 17, 24, 28, 29), (1, 1, 1, 1, 0), 0.5599380184932776],\n",
       " [(4, 10, 21, 28, 29), (1, 1, 1, 1, 0), 0.549971077613107],\n",
       " [(4, 17, 21, 28, 29), (1, 1, 1, 1, 0), 0.4899961603964635],\n",
       " [(1, 8, 17, 24, 29), (1, 0, 1, 1, 1), 0.47867018370502884]]"
      ]
     },
     "execution_count": 5,
     "metadata": {},
     "output_type": "execute_result"
    }
   ],
   "source": [
    "results"
   ]
  },
  {
   "cell_type": "code",
   "execution_count": null,
   "metadata": {},
   "outputs": [],
   "source": []
  }
 ],
 "metadata": {
  "kernelspec": {
   "display_name": "Python 3 (ipykernel)",
   "language": "python",
   "name": "python3"
  },
  "language_info": {
   "codemirror_mode": {
    "name": "ipython",
    "version": 3
   },
   "file_extension": ".py",
   "mimetype": "text/x-python",
   "name": "python",
   "nbconvert_exporter": "python",
   "pygments_lexer": "ipython3",
   "version": "3.7.9"
  }
 },
 "nbformat": 4,
 "nbformat_minor": 4
}
