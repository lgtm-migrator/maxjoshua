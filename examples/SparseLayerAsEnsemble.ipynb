{
 "cells": [
  {
   "cell_type": "code",
   "execution_count": 1,
   "id": "01e98419-4d0e-4d75-8e98-de100e444665",
   "metadata": {},
   "outputs": [],
   "source": [
    "%load_ext autoreload\n",
    "%autoreload 2\n",
    "\n",
    "import sys\n",
    "sys.path.append('..')\n",
    "\n",
    "import maxjoshua as mh\n",
    "import tensorflow as tf\n",
    "import sklearn.preprocessing"
   ]
  },
  {
   "cell_type": "markdown",
   "id": "190be178-baa3-470b-a60d-5b5a5a8a93a3",
   "metadata": {},
   "source": [
    "## Load dataset"
   ]
  },
  {
   "cell_type": "code",
   "execution_count": 2,
   "id": "59f10dd7-f5e1-44e8-8e05-b0eff5e677b0",
   "metadata": {},
   "outputs": [],
   "source": [
    "import sklearn.datasets\n",
    "X, y = sklearn.datasets.make_regression(n_samples=1000, n_features=100, n_informative=20, n_targets=3)"
   ]
  },
  {
   "cell_type": "code",
   "execution_count": 3,
   "id": "171606bd-f9d5-4086-b7c6-3d4af9f78448",
   "metadata": {},
   "outputs": [
    {
     "data": {
      "text/plain": [
       "((1000, 100), (1000, 3), 957.640418472872, -849.9321891784462)"
      ]
     },
     "execution_count": 3,
     "metadata": {},
     "output_type": "execute_result"
    }
   ],
   "source": [
    "X.shape, y.shape, y.max(), y.min()"
   ]
  },
  {
   "cell_type": "markdown",
   "id": "1b51c7d9-1d27-4129-972a-7235394dae65",
   "metadata": {},
   "source": [
    "## Feature selection"
   ]
  },
  {
   "cell_type": "code",
   "execution_count": 4,
   "id": "c5b8fe4f-b9cf-4ba0-9ee3-760078ff6758",
   "metadata": {},
   "outputs": [
    {
     "name": "stdout",
     "output_type": "stream",
     "text": [
      "0 (42, 53, 77) [0.41072096042140604, 0.3169109462233002, -0.02538806349456914] 0.8503307593845821\n",
      "1 (28, 44, 71) [0.3314903653203117, 0.12272168714932445, 0.3677154743419552] 0.8385466172243783\n",
      "2 (13, 45, 81) [0.058972471965477766, 0.3035680522122819, 0.347724698889192] 0.8957429767433448\n",
      "CPU times: user 22.1 s, sys: 750 ms, total: 22.9 s\n",
      "Wall time: 28.6 s\n"
     ]
    }
   ],
   "source": [
    "%%time \n",
    "indices, values, num_in, num_out = mh.pretrain_submodels(\n",
    "    sklearn.preprocessing.scale(X), \n",
    "    sklearn.preprocessing.scale(y), \n",
    "    num_out=64, n_select=3)"
   ]
  },
  {
   "cell_type": "markdown",
   "id": "4ed1e29f-83b1-4f9f-82e2-9b6ce084b3a2",
   "metadata": {},
   "source": [
    "## Training"
   ]
  },
  {
   "cell_type": "code",
   "execution_count": 5,
   "id": "c9301efa-7b7c-4ac4-8ea1-9155381329c6",
   "metadata": {},
   "outputs": [
    {
     "name": "stderr",
     "output_type": "stream",
     "text": [
      "2022-06-22 15:30:26.412520: I tensorflow/core/platform/cpu_feature_guard.cc:193] This TensorFlow binary is optimized with oneAPI Deep Neural Network Library (oneDNN) to use the following CPU instructions in performance-critical operations:  AVX2 FMA\n",
      "To enable them in other operations, rebuild TensorFlow with the appropriate compiler flags.\n"
     ]
    },
    {
     "name": "stdout",
     "output_type": "stream",
     "text": [
      "Epoch 1/3\n",
      "WARNING:tensorflow:\n",
      "The following Variables were used a Lambda layer's call (lambda), but\n",
      "are not present in its tracked objects:\n",
      "  <tf.Variable 'scale:0' shape=(3,) dtype=float32>\n",
      "  <tf.Variable 'bias:0' shape=(3,) dtype=float32>\n",
      "It is possible that this is intended behavior, but it is more likely\n",
      "an omission. This is a strong indication that this layer should be\n",
      "formulated as a subclassed Layer rather than a Lambda layer.\n",
      "32/32 [==============================] - 2s 6ms/step - loss: 43438.5469\n",
      "Epoch 2/3\n",
      "32/32 [==============================] - 0s 6ms/step - loss: 39415.8281\n",
      "Epoch 3/3\n",
      "32/32 [==============================] - 0s 6ms/step - loss: 36680.3125\n"
     ]
    }
   ],
   "source": [
    "model = tf.keras.models.Sequential([\n",
    "    mh.SparseLayerAsEnsemble(\n",
    "        num_in=num_in, \n",
    "        num_out=num_out, \n",
    "        sp_indices=indices, \n",
    "        sp_values=values,\n",
    "        sp_trainable=False,\n",
    "        norm_trainable=True,\n",
    "    ),\n",
    "    tf.keras.layers.Dense(\n",
    "        units=3, use_bias=False,\n",
    "        # kernel_constraint=tf.keras.constraints.NonNeg()\n",
    "    ),\n",
    "    mh.InverseTransformer(\n",
    "        units=3,\n",
    "        init_bias=y.mean(), \n",
    "        init_scale=y.std()\n",
    "    )\n",
    "])\n",
    "\n",
    "model.compile(\n",
    "    optimizer=tf.keras.optimizers.Adam(\n",
    "        learning_rate=3e-4, beta_1=.9, beta_2=.999, epsilon=1e-7, amsgrad=True),\n",
    "    loss='mean_squared_error'\n",
    ")\n",
    "\n",
    "history = model.fit(X, y, epochs=3)"
   ]
  },
  {
   "cell_type": "code",
   "execution_count": 6,
   "id": "5d2150c7-f09f-4375-8cc4-b3837b75ac33",
   "metadata": {},
   "outputs": [
    {
     "name": "stdout",
     "output_type": "stream",
     "text": [
      "Model: \"sequential\"\n",
      "_________________________________________________________________\n",
      " Layer (type)                Output Shape              Param #   \n",
      "=================================================================\n",
      " sparse_layer_as_ensemble (S  (None, 64)               192       \n",
      " parseLayerAsEnsemble)                                           \n",
      "                                                                 \n",
      " dense (Dense)               (None, 3)                 192       \n",
      "                                                                 \n",
      " inverse_transformer (Invers  (None, 3)                6         \n",
      " eTransformer)                                                   \n",
      "                                                                 \n",
      "=================================================================\n",
      "Total params: 390\n",
      "Trainable params: 198\n",
      "Non-trainable params: 192\n",
      "_________________________________________________________________\n"
     ]
    }
   ],
   "source": [
    "model.summary()"
   ]
  },
  {
   "cell_type": "code",
   "execution_count": 7,
   "id": "58181f3e-6b5b-4b23-9876-f9b60b361eb5",
   "metadata": {},
   "outputs": [
    {
     "name": "stdout",
     "output_type": "stream",
     "text": [
      "32/32 [==============================] - 0s 3ms/step\n"
     ]
    }
   ],
   "source": [
    "y_pred = model.predict(X)"
   ]
  },
  {
   "cell_type": "code",
   "execution_count": 8,
   "id": "2ccd29b9-8301-4f58-ac52-9a72b25efd3c",
   "metadata": {},
   "outputs": [
    {
     "data": {
      "text/plain": [
       "array([[-607.3181   , -450.62985  , -405.91162  ],\n",
       "       [-281.22302  , -281.6296   , -297.2379   ],\n",
       "       [ -70.37455  ,  -60.6155   , -116.41666  ],\n",
       "       ...,\n",
       "       [ 365.05472  ,  332.31036  ,  186.08226  ],\n",
       "       [ 276.50476  ,  188.53299  ,   63.09299  ],\n",
       "       [  -3.7496881,  -62.109215 , -129.27966  ]], dtype=float32)"
      ]
     },
     "execution_count": 8,
     "metadata": {},
     "output_type": "execute_result"
    }
   ],
   "source": [
    "y_pred"
   ]
  },
  {
   "cell_type": "code",
   "execution_count": 9,
   "id": "adb69657-7617-45ae-b19a-1d8207b0aa64",
   "metadata": {},
   "outputs": [
    {
     "data": {
      "text/plain": [
       "array([[-475.14647091, -362.47518431, -306.34891834],\n",
       "       [-408.29456091, -487.32369026, -394.02080307],\n",
       "       [  -7.40124639, -345.13785761, -530.26698008],\n",
       "       ...,\n",
       "       [ 532.50899026,  113.68553711,  186.2086209 ],\n",
       "       [ 119.38910374,   48.26568551,  105.12092451],\n",
       "       [  66.26992169, -216.74575749, -182.41523742]])"
      ]
     },
     "execution_count": 9,
     "metadata": {},
     "output_type": "execute_result"
    }
   ],
   "source": [
    "y"
   ]
  },
  {
   "cell_type": "code",
   "execution_count": 11,
   "id": "63c97a67-4d5d-49e3-b391-fd80926b16ae",
   "metadata": {},
   "outputs": [
    {
     "name": "stderr",
     "output_type": "stream",
     "text": [
      "WARNING:absl:Found untraced functions such as lambda_layer_call_fn, lambda_layer_call_and_return_conditional_losses while saving (showing 2 of 2). These functions will not be directly callable after loading.\n"
     ]
    },
    {
     "name": "stdout",
     "output_type": "stream",
     "text": [
      "INFO:tensorflow:Assets written to: test-save/assets\n"
     ]
    },
    {
     "name": "stderr",
     "output_type": "stream",
     "text": [
      "INFO:tensorflow:Assets written to: test-save/assets\n"
     ]
    },
    {
     "name": "stdout",
     "output_type": "stream",
     "text": [
      "32/32 [==============================] - 0s 3ms/step\n"
     ]
    },
    {
     "data": {
      "text/plain": [
       "array([[ True,  True,  True],\n",
       "       [ True,  True,  True],\n",
       "       [ True,  True,  True],\n",
       "       ...,\n",
       "       [ True,  True,  True],\n",
       "       [ True,  True,  True],\n",
       "       [ True,  True,  True]])"
      ]
     },
     "execution_count": 11,
     "metadata": {},
     "output_type": "execute_result"
    }
   ],
   "source": [
    "# model.save(\"test-save\")\n",
    "# model2 = tf.keras.models.load_model(\"test-save\")\n",
    "# y_pred2 = model2.predict(X)\n",
    "# y_pred == y_pred2"
   ]
  },
  {
   "cell_type": "code",
   "execution_count": null,
   "id": "82455831-4935-4e6e-aef8-33393598a1f8",
   "metadata": {},
   "outputs": [],
   "source": []
  }
 ],
 "metadata": {
  "kernelspec": {
   "display_name": "Python 3 (ipykernel)",
   "language": "python",
   "name": "python3"
  },
  "language_info": {
   "codemirror_mode": {
    "name": "ipython",
    "version": 3
   },
   "file_extension": ".py",
   "mimetype": "text/x-python",
   "name": "python",
   "nbconvert_exporter": "python",
   "pygments_lexer": "ipython3",
   "version": "3.7.9"
  }
 },
 "nbformat": 4,
 "nbformat_minor": 5
}
