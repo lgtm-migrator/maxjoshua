{
 "cells": [
  {
   "cell_type": "code",
   "execution_count": 1,
   "id": "01e98419-4d0e-4d75-8e98-de100e444665",
   "metadata": {},
   "outputs": [],
   "source": [
    "%load_ext autoreload\n",
    "%autoreload 2\n",
    "\n",
    "import sys\n",
    "sys.path.append('..')\n",
    "\n",
    "import maxjoshua as mh\n",
    "import tensorflow as tf\n",
    "import sklearn.preprocessing"
   ]
  },
  {
   "cell_type": "markdown",
   "id": "190be178-baa3-470b-a60d-5b5a5a8a93a3",
   "metadata": {},
   "source": [
    "## Load dataset"
   ]
  },
  {
   "cell_type": "code",
   "execution_count": 2,
   "id": "59f10dd7-f5e1-44e8-8e05-b0eff5e677b0",
   "metadata": {},
   "outputs": [],
   "source": [
    "import sklearn.datasets\n",
    "X, y = sklearn.datasets.make_regression(n_samples=1000, n_features=100, n_informative=20, n_targets=3)"
   ]
  },
  {
   "cell_type": "code",
   "execution_count": 3,
   "id": "171606bd-f9d5-4086-b7c6-3d4af9f78448",
   "metadata": {},
   "outputs": [
    {
     "data": {
      "text/plain": [
       "((1000, 100), (1000, 3), 792.2004002707565, -988.3130088872593)"
      ]
     },
     "execution_count": 3,
     "metadata": {},
     "output_type": "execute_result"
    }
   ],
   "source": [
    "X.shape, y.shape, y.max(), y.min()"
   ]
  },
  {
   "cell_type": "markdown",
   "id": "1b51c7d9-1d27-4129-972a-7235394dae65",
   "metadata": {},
   "source": [
    "## Feature selection"
   ]
  },
  {
   "cell_type": "code",
   "execution_count": 4,
   "id": "c5b8fe4f-b9cf-4ba0-9ee3-760078ff6758",
   "metadata": {},
   "outputs": [
    {
     "name": "stdout",
     "output_type": "stream",
     "text": [
      "0 (0, 63, 84) [0.3242548352417717, -0.07996116590242418, -0.032470841960068636] 0.8953223077048862\n",
      "1 (64, 80, 86) [0.4231414746682984, 0.23757581425116953, 0.2391301058166192] 0.8469327570104306\n",
      "2 (6, 16, 86) [0.21547533349695477, 0.037101406868916435, 0.403163651069875] 0.8646054248853232\n",
      "CPU times: user 16.9 s, sys: 550 ms, total: 17.5 s\n",
      "Wall time: 16.8 s\n"
     ]
    }
   ],
   "source": [
    "%%time \n",
    "indices, values, num_in, num_out = mh.pretrain_submodels(\n",
    "    sklearn.preprocessing.scale(X), \n",
    "    sklearn.preprocessing.scale(y), \n",
    "    num_out=64, n_select=3)"
   ]
  },
  {
   "cell_type": "markdown",
   "id": "4ed1e29f-83b1-4f9f-82e2-9b6ce084b3a2",
   "metadata": {},
   "source": [
    "## Training"
   ]
  },
  {
   "cell_type": "code",
   "execution_count": 5,
   "id": "c9301efa-7b7c-4ac4-8ea1-9155381329c6",
   "metadata": {},
   "outputs": [
    {
     "name": "stdout",
     "output_type": "stream",
     "text": [
      "Epoch 1/3\n"
     ]
    },
    {
     "name": "stderr",
     "output_type": "stream",
     "text": [
      "2022-06-21 00:01:03.267757: I tensorflow/core/platform/cpu_feature_guard.cc:193] This TensorFlow binary is optimized with oneAPI Deep Neural Network Library (oneDNN) to use the following CPU instructions in performance-critical operations:  AVX2 FMA\n",
      "To enable them in other operations, rebuild TensorFlow with the appropriate compiler flags.\n"
     ]
    },
    {
     "name": "stdout",
     "output_type": "stream",
     "text": [
      "32/32 [==============================] - 1s 3ms/step - loss: 0.9939\n",
      "Epoch 2/3\n",
      "32/32 [==============================] - 0s 3ms/step - loss: 0.9190\n",
      "Epoch 3/3\n",
      "32/32 [==============================] - 0s 3ms/step - loss: 0.8491\n"
     ]
    }
   ],
   "source": [
    "model = tf.keras.models.Sequential([\n",
    "    mh.SparseLayerAsEnsemble(\n",
    "        num_in=num_in, num_out=num_out, sp_indices=indices, sp_values=values,\n",
    "        sp_trainable=False\n",
    "    ),\n",
    "    tf.keras.layers.Dense(3, use_bias=True)\n",
    "])\n",
    "\n",
    "model.compile(\n",
    "    optimizer=tf.keras.optimizers.Adam(\n",
    "        learning_rate=3e-4, beta_1=.9, beta_2=.999, epsilon=1e-7, amsgrad=True),\n",
    "    loss='mean_squared_error'\n",
    ")\n",
    "\n",
    "history = model.fit(X, sklearn.preprocessing.scale(y), epochs=3)\n",
    "# model.summary()"
   ]
  },
  {
   "cell_type": "code",
   "execution_count": 6,
   "id": "5d2150c7-f09f-4375-8cc4-b3837b75ac33",
   "metadata": {},
   "outputs": [
    {
     "name": "stdout",
     "output_type": "stream",
     "text": [
      "Model: \"sequential\"\n",
      "_________________________________________________________________\n",
      " Layer (type)                Output Shape              Param #   \n",
      "=================================================================\n",
      " sparse_layer_as_ensemble (S  (None, 64)               592       \n",
      " parseLayerAsEnsemble)                                           \n",
      "                                                                 \n",
      " dense (Dense)               (None, 3)                 195       \n",
      "                                                                 \n",
      "=================================================================\n",
      "Total params: 787\n",
      "Trainable params: 395\n",
      "Non-trainable params: 392\n",
      "_________________________________________________________________\n"
     ]
    }
   ],
   "source": [
    "model.summary()"
   ]
  }
 ],
 "metadata": {
  "kernelspec": {
   "display_name": "Python 3 (ipykernel)",
   "language": "python",
   "name": "python3"
  },
  "language_info": {
   "codemirror_mode": {
    "name": "ipython",
    "version": 3
   },
   "file_extension": ".py",
   "mimetype": "text/x-python",
   "name": "python",
   "nbconvert_exporter": "python",
   "pygments_lexer": "ipython3",
   "version": "3.7.9"
  }
 },
 "nbformat": 4,
 "nbformat_minor": 5
}
