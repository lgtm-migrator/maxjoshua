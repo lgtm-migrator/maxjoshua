{
 "cells": [
  {
   "cell_type": "code",
   "execution_count": 1,
   "id": "01e98419-4d0e-4d75-8e98-de100e444665",
   "metadata": {},
   "outputs": [],
   "source": [
    "%load_ext autoreload\n",
    "%autoreload 2\n",
    "\n",
    "import sys\n",
    "sys.path.append('..')\n",
    "\n",
    "import maxjoshua as mh\n",
    "import tensorflow as tf\n",
    "import sklearn.preprocessing"
   ]
  },
  {
   "cell_type": "markdown",
   "id": "190be178-baa3-470b-a60d-5b5a5a8a93a3",
   "metadata": {},
   "source": [
    "## Load dataset"
   ]
  },
  {
   "cell_type": "code",
   "execution_count": 2,
   "id": "59f10dd7-f5e1-44e8-8e05-b0eff5e677b0",
   "metadata": {},
   "outputs": [],
   "source": [
    "import sklearn.datasets\n",
    "X, y = sklearn.datasets.make_regression(n_samples=1000, n_features=100, n_informative=20, n_targets=3)"
   ]
  },
  {
   "cell_type": "code",
   "execution_count": 3,
   "id": "171606bd-f9d5-4086-b7c6-3d4af9f78448",
   "metadata": {},
   "outputs": [
    {
     "data": {
      "text/plain": [
       "((1000, 100), (1000, 3), 826.7673065383296, -911.2601431867922)"
      ]
     },
     "execution_count": 3,
     "metadata": {},
     "output_type": "execute_result"
    }
   ],
   "source": [
    "X.shape, y.shape, y.max(), y.min()"
   ]
  },
  {
   "cell_type": "markdown",
   "id": "1b51c7d9-1d27-4129-972a-7235394dae65",
   "metadata": {},
   "source": [
    "## Feature selection"
   ]
  },
  {
   "cell_type": "code",
   "execution_count": 4,
   "id": "c5b8fe4f-b9cf-4ba0-9ee3-760078ff6758",
   "metadata": {},
   "outputs": [
    {
     "name": "stdout",
     "output_type": "stream",
     "text": [
      "0 (64, 86, 95) [-0.030078640349444463, 0.221922822008917, 0.35182983749492336] 0.8855170277435118\n",
      "1 (35, 38, 99) [0.3507773720369648, 0.2914976540278422, -0.06878462564374627] 0.8589709506577199\n",
      "2 (10, 97, 99) [0.3967556573434297, 0.38971838784704843, -0.10468899034162711] 0.796321553934515\n",
      "CPU times: user 15 s, sys: 373 ms, total: 15.4 s\n",
      "Wall time: 14.1 s\n"
     ]
    }
   ],
   "source": [
    "%%time \n",
    "indices, values, num_in, num_out = mh.pretrain_submodels(\n",
    "    sklearn.preprocessing.scale(X), \n",
    "    sklearn.preprocessing.scale(y), \n",
    "    num_out=64, n_select=3)"
   ]
  },
  {
   "cell_type": "markdown",
   "id": "4ed1e29f-83b1-4f9f-82e2-9b6ce084b3a2",
   "metadata": {},
   "source": [
    "## Training"
   ]
  },
  {
   "cell_type": "code",
   "execution_count": 5,
   "id": "c9301efa-7b7c-4ac4-8ea1-9155381329c6",
   "metadata": {},
   "outputs": [
    {
     "name": "stdout",
     "output_type": "stream",
     "text": [
      "Epoch 1/3\n"
     ]
    },
    {
     "name": "stderr",
     "output_type": "stream",
     "text": [
      "2022-06-21 14:09:58.017632: I tensorflow/core/platform/cpu_feature_guard.cc:193] This TensorFlow binary is optimized with oneAPI Deep Neural Network Library (oneDNN) to use the following CPU instructions in performance-critical operations:  AVX2 FMA\n",
      "To enable them in other operations, rebuild TensorFlow with the appropriate compiler flags.\n"
     ]
    },
    {
     "name": "stdout",
     "output_type": "stream",
     "text": [
      "32/32 [==============================] - 1s 3ms/step - loss: 29739.9707\n",
      "Epoch 2/3\n",
      "32/32 [==============================] - 0s 3ms/step - loss: 26619.3203\n",
      "Epoch 3/3\n",
      "32/32 [==============================] - 0s 3ms/step - loss: 24764.8145\n"
     ]
    }
   ],
   "source": [
    "model = tf.keras.models.Sequential([\n",
    "    mh.SparseLayerAsEnsemble(\n",
    "        num_in=num_in, \n",
    "        num_out=num_out, \n",
    "        sp_indices=indices, \n",
    "        sp_values=values,\n",
    "        sp_trainable=False\n",
    "    ),\n",
    "    tf.keras.layers.Dense(\n",
    "        units=3, use_bias=False,\n",
    "        kernel_constraint=tf.keras.constraints.NonNeg()\n",
    "    ),\n",
    "    mh.InverseTransformer(\n",
    "        units=3,\n",
    "        init_bias=y.mean(), \n",
    "        init_scale=y.std()\n",
    "    )\n",
    "])\n",
    "\n",
    "model.compile(\n",
    "    optimizer=tf.keras.optimizers.Adam(\n",
    "        learning_rate=3e-4, beta_1=.9, beta_2=.999, epsilon=1e-7, amsgrad=True),\n",
    "    loss='mean_squared_error'\n",
    ")\n",
    "\n",
    "history = model.fit(X, y, epochs=3)"
   ]
  },
  {
   "cell_type": "code",
   "execution_count": 6,
   "id": "5d2150c7-f09f-4375-8cc4-b3837b75ac33",
   "metadata": {},
   "outputs": [
    {
     "name": "stdout",
     "output_type": "stream",
     "text": [
      "Model: \"sequential\"\n",
      "_________________________________________________________________\n",
      " Layer (type)                Output Shape              Param #   \n",
      "=================================================================\n",
      " sparse_layer_as_ensemble (S  (None, 64)               592       \n",
      " parseLayerAsEnsemble)                                           \n",
      "                                                                 \n",
      " dense (Dense)               (None, 3)                 192       \n",
      "                                                                 \n",
      " inverse_transformer (Invers  (None, 3)                6         \n",
      " eTransformer)                                                   \n",
      "                                                                 \n",
      "=================================================================\n",
      "Total params: 790\n",
      "Trainable params: 398\n",
      "Non-trainable params: 392\n",
      "_________________________________________________________________\n"
     ]
    }
   ],
   "source": [
    "model.summary()"
   ]
  },
  {
   "cell_type": "code",
   "execution_count": 7,
   "id": "58181f3e-6b5b-4b23-9876-f9b60b361eb5",
   "metadata": {},
   "outputs": [
    {
     "name": "stdout",
     "output_type": "stream",
     "text": [
      "32/32 [==============================] - 0s 2ms/step\n"
     ]
    }
   ],
   "source": [
    "y_pred = model.predict(X)"
   ]
  },
  {
   "cell_type": "code",
   "execution_count": 8,
   "id": "2ccd29b9-8301-4f58-ac52-9a72b25efd3c",
   "metadata": {},
   "outputs": [
    {
     "data": {
      "text/plain": [
       "array([[  32.41129  ,   86.500626 ,  -88.62109  ],\n",
       "       [-115.02759  ,  -44.41147  , -128.52892  ],\n",
       "       [ -80.20841  ,  -86.36415  , -127.54527  ],\n",
       "       ...,\n",
       "       [ -38.8014   ,   60.870422 ,   13.4240265],\n",
       "       [  58.531338 ,   59.005497 ,   36.656044 ],\n",
       "       [-105.05849  ,  -69.640564 , -129.83876  ]], dtype=float32)"
      ]
     },
     "execution_count": 8,
     "metadata": {},
     "output_type": "execute_result"
    }
   ],
   "source": [
    "y_pred"
   ]
  },
  {
   "cell_type": "code",
   "execution_count": 9,
   "id": "adb69657-7617-45ae-b19a-1d8207b0aa64",
   "metadata": {},
   "outputs": [
    {
     "data": {
      "text/plain": [
       "array([[ 189.63176047,   85.18177731,  119.37223354],\n",
       "       [ -99.49483064,   79.56510184, -382.50919779],\n",
       "       [   4.34269488,  148.16108064,    4.13984965],\n",
       "       ...,\n",
       "       [-207.1902419 ,  -32.02099973,    4.98155606],\n",
       "       [ -47.49634833,   -8.58288168,   44.97482191],\n",
       "       [-448.19171217, -483.55431877, -225.8641919 ]])"
      ]
     },
     "execution_count": 9,
     "metadata": {},
     "output_type": "execute_result"
    }
   ],
   "source": [
    "y"
   ]
  },
  {
   "cell_type": "code",
   "execution_count": null,
   "id": "63c97a67-4d5d-49e3-b391-fd80926b16ae",
   "metadata": {},
   "outputs": [],
   "source": []
  }
 ],
 "metadata": {
  "kernelspec": {
   "display_name": "Python 3 (ipykernel)",
   "language": "python",
   "name": "python3"
  },
  "language_info": {
   "codemirror_mode": {
    "name": "ipython",
    "version": 3
   },
   "file_extension": ".py",
   "mimetype": "text/x-python",
   "name": "python",
   "nbconvert_exporter": "python",
   "pygments_lexer": "ipython3",
   "version": "3.7.9"
  }
 },
 "nbformat": 4,
 "nbformat_minor": 5
}
