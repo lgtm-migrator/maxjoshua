{
 "cells": [
  {
   "cell_type": "code",
   "execution_count": 1,
   "id": "01e98419-4d0e-4d75-8e98-de100e444665",
   "metadata": {},
   "outputs": [],
   "source": [
    "%load_ext autoreload\n",
    "%autoreload 2\n",
    "\n",
    "import sys\n",
    "sys.path.append('..')\n",
    "\n",
    "import maxjoshua as mh\n",
    "import tensorflow as tf\n",
    "import sklearn.preprocessing"
   ]
  },
  {
   "cell_type": "markdown",
   "id": "190be178-baa3-470b-a60d-5b5a5a8a93a3",
   "metadata": {},
   "source": [
    "## Load dataset"
   ]
  },
  {
   "cell_type": "code",
   "execution_count": 2,
   "id": "59f10dd7-f5e1-44e8-8e05-b0eff5e677b0",
   "metadata": {},
   "outputs": [],
   "source": [
    "import sklearn.datasets\n",
    "X, y = sklearn.datasets.make_regression(n_samples=1000, n_features=100, n_informative=20, n_targets=3)"
   ]
  },
  {
   "cell_type": "code",
   "execution_count": 3,
   "id": "171606bd-f9d5-4086-b7c6-3d4af9f78448",
   "metadata": {},
   "outputs": [
    {
     "data": {
      "text/plain": [
       "((1000, 100), (1000, 3), 1116.4693156136254, -900.1283341193364)"
      ]
     },
     "execution_count": 3,
     "metadata": {},
     "output_type": "execute_result"
    }
   ],
   "source": [
    "X.shape, y.shape, y.max(), y.min()"
   ]
  },
  {
   "cell_type": "markdown",
   "id": "1b51c7d9-1d27-4129-972a-7235394dae65",
   "metadata": {},
   "source": [
    "## Feature selection"
   ]
  },
  {
   "cell_type": "code",
   "execution_count": 4,
   "id": "c5b8fe4f-b9cf-4ba0-9ee3-760078ff6758",
   "metadata": {},
   "outputs": [
    {
     "name": "stdout",
     "output_type": "stream",
     "text": [
      "0 (38, 48, 88) [0.34481553462340886, -0.022213111722861976, -0.05795348741566542] 0.8755112016888794\n",
      "1 (2, 65, 80) [0.3098210984522966, 0.029224082309184326, 0.34031906772244597] 0.8680807766479522\n",
      "2 (2, 16, 60) [0.24840166150232873, -0.0524075663588374, 0.3031005724420399] 0.8842105589345371\n",
      "CPU times: user 23.3 s, sys: 811 ms, total: 24.1 s\n",
      "Wall time: 27.2 s\n"
     ]
    }
   ],
   "source": [
    "%%time \n",
    "indices, values, num_in, num_out = mh.pretrain_submodels(\n",
    "    sklearn.preprocessing.scale(X), \n",
    "    sklearn.preprocessing.scale(y), \n",
    "    num_out=64, n_select=3)"
   ]
  },
  {
   "cell_type": "markdown",
   "id": "4ed1e29f-83b1-4f9f-82e2-9b6ce084b3a2",
   "metadata": {},
   "source": [
    "## Training"
   ]
  },
  {
   "cell_type": "code",
   "execution_count": 5,
   "id": "c9301efa-7b7c-4ac4-8ea1-9155381329c6",
   "metadata": {},
   "outputs": [
    {
     "name": "stdout",
     "output_type": "stream",
     "text": [
      "Epoch 1/3\n"
     ]
    },
    {
     "name": "stderr",
     "output_type": "stream",
     "text": [
      "2022-06-22 15:32:20.410085: I tensorflow/core/platform/cpu_feature_guard.cc:193] This TensorFlow binary is optimized with oneAPI Deep Neural Network Library (oneDNN) to use the following CPU instructions in performance-critical operations:  AVX2 FMA\n",
      "To enable them in other operations, rebuild TensorFlow with the appropriate compiler flags.\n"
     ]
    },
    {
     "name": "stdout",
     "output_type": "stream",
     "text": [
      "WARNING:tensorflow:\n",
      "The following Variables were used a Lambda layer's call (lambda), but\n",
      "are not present in its tracked objects:\n",
      "  <tf.Variable 'scale:0' shape=(3,) dtype=float32>\n",
      "  <tf.Variable 'bias:0' shape=(3,) dtype=float32>\n",
      "It is possible that this is intended behavior, but it is more likely\n",
      "an omission. This is a strong indication that this layer should be\n",
      "formulated as a subclassed Layer rather than a Lambda layer.\n",
      "32/32 [==============================] - 2s 6ms/step - loss: 79725.2656\n",
      "Epoch 2/3\n",
      "32/32 [==============================] - 0s 7ms/step - loss: 73573.5781\n",
      "Epoch 3/3\n",
      "32/32 [==============================] - 0s 6ms/step - loss: 68210.8281\n"
     ]
    }
   ],
   "source": [
    "model = tf.keras.models.Sequential([\n",
    "    mh.SparseLayerAsEnsemble(\n",
    "        num_in=num_in, \n",
    "        num_out=num_out, \n",
    "        sp_indices=indices, \n",
    "        sp_values=values,\n",
    "        sp_trainable=False,\n",
    "        norm_trainable=True,\n",
    "    ),\n",
    "    tf.keras.layers.Dense(\n",
    "        units=3, use_bias=False,\n",
    "        # kernel_constraint=tf.keras.constraints.NonNeg()\n",
    "    ),\n",
    "    mh.InverseTransformer(\n",
    "        units=3,\n",
    "        init_bias=y.mean(), \n",
    "        init_scale=y.std()\n",
    "    )\n",
    "])\n",
    "\n",
    "model.compile(\n",
    "    optimizer=tf.keras.optimizers.Adam(\n",
    "        learning_rate=3e-4, beta_1=.9, beta_2=.999, epsilon=1e-7, amsgrad=True),\n",
    "    loss='mean_squared_error'\n",
    ")\n",
    "\n",
    "history = model.fit(X, y, epochs=3)"
   ]
  },
  {
   "cell_type": "code",
   "execution_count": 6,
   "id": "5d2150c7-f09f-4375-8cc4-b3837b75ac33",
   "metadata": {},
   "outputs": [
    {
     "name": "stdout",
     "output_type": "stream",
     "text": [
      "Model: \"sequential\"\n",
      "_________________________________________________________________\n",
      " Layer (type)                Output Shape              Param #   \n",
      "=================================================================\n",
      " sparse_layer_as_ensemble (S  (None, 64)               592       \n",
      " parseLayerAsEnsemble)                                           \n",
      "                                                                 \n",
      " dense (Dense)               (None, 3)                 192       \n",
      "                                                                 \n",
      " inverse_transformer (Invers  (None, 3)                6         \n",
      " eTransformer)                                                   \n",
      "                                                                 \n",
      "=================================================================\n",
      "Total params: 790\n",
      "Trainable params: 398\n",
      "Non-trainable params: 392\n",
      "_________________________________________________________________\n"
     ]
    }
   ],
   "source": [
    "model.summary()"
   ]
  },
  {
   "cell_type": "code",
   "execution_count": 7,
   "id": "58181f3e-6b5b-4b23-9876-f9b60b361eb5",
   "metadata": {},
   "outputs": [
    {
     "name": "stdout",
     "output_type": "stream",
     "text": [
      "32/32 [==============================] - 0s 4ms/step\n"
     ]
    }
   ],
   "source": [
    "y_pred = model.predict(X)"
   ]
  },
  {
   "cell_type": "code",
   "execution_count": 8,
   "id": "2ccd29b9-8301-4f58-ac52-9a72b25efd3c",
   "metadata": {},
   "outputs": [
    {
     "data": {
      "text/plain": [
       "array([[  69.30428 , -106.95536 ,  -82.685486],\n",
       "       [ -56.667194,  149.03792 ,  -45.18775 ],\n",
       "       [  63.699768, -153.53983 ,  -24.306787],\n",
       "       ...,\n",
       "       [   3.820597,  -97.86668 , -144.86803 ],\n",
       "       [  35.372498,  -39.756947,   76.79273 ],\n",
       "       [  31.496029, -123.3764  ,  142.68825 ]], dtype=float32)"
      ]
     },
     "execution_count": 8,
     "metadata": {},
     "output_type": "execute_result"
    }
   ],
   "source": [
    "y_pred"
   ]
  },
  {
   "cell_type": "code",
   "execution_count": 9,
   "id": "adb69657-7617-45ae-b19a-1d8207b0aa64",
   "metadata": {},
   "outputs": [
    {
     "data": {
      "text/plain": [
       "array([[  86.23141711,   29.82632753,  -21.38341373],\n",
       "       [  11.61382915,  -32.15349798,    0.82352912],\n",
       "       [ -72.94832667,  276.13569032,  -67.78254294],\n",
       "       ...,\n",
       "       [  33.63370102,  100.9536608 ,  -80.45502987],\n",
       "       [  -9.51298835, -121.63196117,   53.63461233],\n",
       "       [ -17.00878224,   52.34750071,  -50.87228869]])"
      ]
     },
     "execution_count": 9,
     "metadata": {},
     "output_type": "execute_result"
    }
   ],
   "source": [
    "y"
   ]
  },
  {
   "cell_type": "code",
   "execution_count": 10,
   "id": "63c97a67-4d5d-49e3-b391-fd80926b16ae",
   "metadata": {},
   "outputs": [],
   "source": [
    "# model.save(\"test-save\")\n",
    "# model2 = tf.keras.models.load_model(\"test-save\")\n",
    "# y_pred2 = model2.predict(X)\n",
    "# y_pred == y_pred2"
   ]
  },
  {
   "cell_type": "code",
   "execution_count": null,
   "id": "82455831-4935-4e6e-aef8-33393598a1f8",
   "metadata": {},
   "outputs": [],
   "source": []
  }
 ],
 "metadata": {
  "kernelspec": {
   "display_name": "Python 3 (ipykernel)",
   "language": "python",
   "name": "python3"
  },
  "language_info": {
   "codemirror_mode": {
    "name": "ipython",
    "version": 3
   },
   "file_extension": ".py",
   "mimetype": "text/x-python",
   "name": "python",
   "nbconvert_exporter": "python",
   "pygments_lexer": "ipython3",
   "version": "3.7.9"
  }
 },
 "nbformat": 4,
 "nbformat_minor": 5
}
